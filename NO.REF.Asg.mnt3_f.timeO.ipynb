{
  "nbformat": 4,
  "nbformat_minor": 0,
  "metadata": {
    "colab": {
      "name": "Assingment3_O.ipynb",
      "provenance": [],
      "collapsed_sections": [],
      "authorship_tag": "ABX9TyPN8dD/ijdR75MOa1wpEu5c",
      "include_colab_link": true
    },
    "kernelspec": {
      "name": "python3",
      "display_name": "Python 3"
    }
  },
  "cells": [
    {
      "cell_type": "markdown",
      "metadata": {
        "id": "view-in-github",
        "colab_type": "text"
      },
      "source": [
        "<a href=\"https://colab.research.google.com/github/VigneshRavichandiran54/assissment/blob/main/NO.REF.Asg.mnt3_f.timeO.ipynb\" target=\"_parent\"><img src=\"https://colab.research.google.com/assets/colab-badge.svg\" alt=\"Open In Colab\"/></a>"
      ]
    },
    {
      "cell_type": "code",
      "metadata": {
        "colab": {
          "base_uri": "https://localhost:8080/"
        },
        "id": "MB8Xx7Xtfajv",
        "outputId": "0f266de9-8f57-41fc-b496-19f7d185fb47"
      },
      "source": [
        "str=\"hi  i am viki python developer\"\r\n",
        "l=list(str.split())\r\n",
        "a=l[::-1]\r\n",
        "print(l)\r\n",
        "print(a)\r\n",
        "\r\n",
        "for i in a:\r\n",
        "  print(i,end=\" \")"
      ],
      "execution_count": null,
      "outputs": [
        {
          "output_type": "stream",
          "text": [
            "['hi', 'i', 'am', 'viki', 'python', 'developer']\n",
            "['developer', 'python', 'viki', 'am', 'i', 'hi']\n",
            "developer python viki am i hi "
          ],
          "name": "stdout"
        }
      ]
    },
    {
      "cell_type": "code",
      "metadata": {
        "colab": {
          "base_uri": "https://localhost:8080/"
        },
        "id": "KJfdVVr1iwq6",
        "outputId": "a5610d00-17d4-494d-fc17-73524c635b96"
      },
      "source": [
        "class reverse():\r\n",
        "  def __init__(self,str):\r\n",
        "    self.str=str\r\n",
        "  def reversed(self):\r\n",
        "    l=list((self.str).split())\r\n",
        "    a=l[::-1]\r\n",
        "    print(a)\r\n",
        "    for i in a:\r\n",
        "      print(i,end=\" \")\r\n",
        "\r\n",
        "r=reverse(\"i am viki \")\r\n",
        "r.reversed()"
      ],
      "execution_count": null,
      "outputs": [
        {
          "output_type": "stream",
          "text": [
            "['viki', 'am', 'i']\n",
            "viki am i "
          ],
          "name": "stdout"
        }
      ]
    },
    {
      "cell_type": "code",
      "metadata": {
        "colab": {
          "base_uri": "https://localhost:8080/"
        },
        "id": "LU0CmAX1bkg_",
        "outputId": "de5f607c-ec76-4d5b-af21-4aa45dbd9043"
      },
      "source": [
        "class str():\r\n",
        "  def __init__(s,string):\r\n",
        "    s.string=string\r\n",
        "  def upper(s):\r\n",
        "    print('upper case of given string =',s.string.upper())\r\n",
        "\r\n",
        "c=str('convert')    \r\n",
        "c.upper()"
      ],
      "execution_count": null,
      "outputs": [
        {
          "output_type": "stream",
          "text": [
            "upper case of given string = CONVERT\n"
          ],
          "name": "stdout"
        }
      ]
    },
    {
      "cell_type": "code",
      "metadata": {
        "colab": {
          "base_uri": "https://localhost:8080/"
        },
        "id": "dEjJfpsgWWXd",
        "outputId": "57889e84-9802-4aee-aacb-ca0c5b79d299"
      },
      "source": [
        "class rectangle():\r\n",
        "  def __init__(self,a,b):\r\n",
        "    self.a=a\r\n",
        "    self.b=b\r\n",
        "  def area(self):\r\n",
        "    print('AREA of the RECTANGLE is =',(self.a*self.b))\r\n",
        "\r\n",
        "a=rectangle(10,10)\r\n",
        "a.area()"
      ],
      "execution_count": null,
      "outputs": [
        {
          "output_type": "stream",
          "text": [
            "AREA of the RECTANGLE is = 100\n"
          ],
          "name": "stdout"
        }
      ]
    },
    {
      "cell_type": "code",
      "metadata": {
        "colab": {
          "base_uri": "https://localhost:8080/"
        },
        "id": "zLkR9h09YBN1",
        "outputId": "ebc4ee66-f5b8-47a0-cd8d-d318ab5a5587"
      },
      "source": [
        "from math import pi\r\n",
        "class circle():\r\n",
        "  def __init__(s,a):\r\n",
        "    s.a=a\r\n",
        "  def circumfrence(s):\r\n",
        "    print('circumfrence of the circle =',((2*pi*s.a)))\r\n",
        "  def area(s):\r\n",
        "    print('area of the circle =',(pi*(s.a*s.a)))\r\n",
        "\r\n",
        "c=circle(20)\r\n",
        "c.circumfrence()\r\n",
        "c.area()        "
      ],
      "execution_count": null,
      "outputs": [
        {
          "output_type": "stream",
          "text": [
            "circumfrence of the circle = 125.66370614359172\n",
            "area of the circle = 1256.6370614359173\n"
          ],
          "name": "stdout"
        }
      ]
    }
  ]
}