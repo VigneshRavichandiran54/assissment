{
  "nbformat": 4,
  "nbformat_minor": 0,
  "metadata": {
    "colab": {
      "name": "assingment1.ipynb",
      "provenance": [],
      "collapsed_sections": [],
      "authorship_tag": "ABX9TyPlAo9j4iFhWUkBJMW6lZrh",
      "include_colab_link": true
    },
    "kernelspec": {
      "name": "python3",
      "display_name": "Python 3"
    }
  },
  "cells": [
    {
      "cell_type": "markdown",
      "metadata": {
        "id": "view-in-github",
        "colab_type": "text"
      },
      "source": [
        "<a href=\"https://colab.research.google.com/github/VigneshRavichandiran54/assissment/blob/main/assingment1solved9.ipynb\" target=\"_parent\"><img src=\"https://colab.research.google.com/assets/colab-badge.svg\" alt=\"Open In Colab\"/></a>"
      ]
    },
    {
      "cell_type": "code",
      "metadata": {
        "colab": {
          "base_uri": "https://localhost:8080/"
        },
        "id": "WNtraAd8JYAK",
        "outputId": "20d28d34-c38e-49d7-a29d-c8ca3e574290"
      },
      "source": [
        "def ul(str):\r\n",
        "   x=sum(1 for a in str if a.isupper())\r\n",
        "   y=sum(1 for a in str if a.islower())\r\n",
        "   print(\" no of uppercase letter =%u\\n no of lowercase letter =%g\"  % (x,y))\r\n",
        "\r\n",
        "ul(\"Code In Is Fun but tricky\")"
      ],
      "execution_count": null,
      "outputs": [
        {
          "output_type": "stream",
          "text": [
            " no of uppercase letter =4\n",
            " no of lowercase letter =16\n"
          ],
          "name": "stdout"
        }
      ]
    },
    {
      "cell_type": "code",
      "metadata": {
        "id": "UwHVODb3JYJu",
        "colab": {
          "base_uri": "https://localhost:8080/"
        },
        "outputId": "7d33fb9b-2f7a-4a9a-82d8-1c6c5412a2c7"
      },
      "source": [
        "l=[1,2,3,-8]\r\n",
        "def mul(list):\r\n",
        "     result=1\r\n",
        "     for x in list:\r\n",
        "      result=result*x\r\n",
        "     return result\r\n",
        "print(mul(l))\r\n",
        "\r\n"
      ],
      "execution_count": null,
      "outputs": [
        {
          "output_type": "stream",
          "text": [
            "-48\n"
          ],
          "name": "stdout"
        }
      ]
    },
    {
      "cell_type": "code",
      "metadata": {
        "colab": {
          "base_uri": "https://localhost:8080/"
        },
        "id": "yQ8B-pUBhAy8",
        "outputId": "07d8977a-d20e-40e0-b9c6-9a7e00f0fa48"
      },
      "source": [
        "def pali(p):\r\n",
        "  if p == p[::-1]:\r\n",
        "    print (\"string is pallindrome : \",p ,\":\",p[::-1])\r\n",
        "  else:\r\n",
        "    print(\"not a pallindrom :\",p ,\":\",p[::-1])\r\n",
        "pali(\"amma\")\r\n",
        "pali(\"mother\")"
      ],
      "execution_count": null,
      "outputs": [
        {
          "output_type": "stream",
          "text": [
            "string is pallindrome :  amma : amma\n",
            "not a pallindrom : mother : rehtom\n"
          ],
          "name": "stdout"
        }
      ]
    },
    {
      "cell_type": "code",
      "metadata": {
        "colab": {
          "base_uri": "https://localhost:8080/"
        },
        "id": "MCDh9HSVkQl3",
        "outputId": "60f7f96a-fd7e-4d68-a003-ee9c95601ec8"
      },
      "source": [
        "def two_word(str):\r\n",
        "   s1 , s2 = str.split(\" \")\r\n",
        "   if s1[0].upper() == s2[0].upper():\r\n",
        "     print(\"true\")\r\n",
        "   else:\r\n",
        "     print(\"false\")\r\n",
        "two_word(\"python perfect\") \r\n",
        "two_word(\"python imperfect\")     \r\n"
      ],
      "execution_count": null,
      "outputs": [
        {
          "output_type": "stream",
          "text": [
            "true\n",
            "false\n"
          ],
          "name": "stdout"
        }
      ]
    },
    {
      "cell_type": "code",
      "metadata": {
        "colab": {
          "base_uri": "https://localhost:8080/"
        },
        "id": "DmxhPdASqrpx",
        "outputId": "1a690266-a0d1-463a-dc94-d5d89c8d659d"
      },
      "source": [
        "def int_20(x,y):\r\n",
        "  if x==20 or y==20 or x+y == 20:\r\n",
        "    print(\"true\")\r\n",
        "  else:\r\n",
        "    print(\"false\")\r\n",
        "\r\n",
        "int_20(20,12)      \r\n",
        "int_20(0,20) \r\n",
        "int_20(15,5) \r\n",
        "int_20(2,9) \r\n",
        "int_20(2,2) "
      ],
      "execution_count": null,
      "outputs": [
        {
          "output_type": "stream",
          "text": [
            "true\n",
            "true\n",
            "true\n",
            "false\n",
            "false\n"
          ],
          "name": "stdout"
        }
      ]
    },
    {
      "cell_type": "code",
      "metadata": {
        "colab": {
          "base_uri": "https://localhost:8080/"
        },
        "id": "PbXqeVj2tNaC",
        "outputId": "1ce33294-0b51-42a5-a00a-df8dffbd250a"
      },
      "source": [
        "def capital_14(str):\r\n",
        "  n=\" \"\r\n",
        "  for i in str:\r\n",
        "    a=str.index(i) \r\n",
        "    if a==0 :\r\n",
        "      n=n+i.upper()\r\n",
        "    elif (a==3):  \r\n",
        "      n=n+i.upper()\r\n",
        "    else:\r\n",
        "      n=n+i   \r\n",
        "  print(n)\r\n",
        "\r\n",
        "\r\n",
        "capital_14(\"abcde\")"
      ],
      "execution_count": null,
      "outputs": [
        {
          "output_type": "stream",
          "text": [
            " AbcDe\n"
          ],
          "name": "stdout"
        }
      ]
    },
    {
      "cell_type": "code",
      "metadata": {
        "colab": {
          "base_uri": "https://localhost:8080/"
        },
        "id": "Nj9FzCw13StS",
        "outputId": "c994d4eb-0597-4354-a719-9cc308bc68e5"
      },
      "source": [
        "def reverse(str):\r\n",
        "  word=str.split(\" \")\r\n",
        "  revword =\" \".join(reversed(word))\r\n",
        "  print (revword)\r\n",
        "\r\n",
        "reverse(\" who good this is \")"
      ],
      "execution_count": null,
      "outputs": [
        {
          "output_type": "stream",
          "text": [
            " is this good who \n"
          ],
          "name": "stdout"
        }
      ]
    },
    {
      "cell_type": "code",
      "metadata": {
        "colab": {
          "base_uri": "https://localhost:8080/"
        },
        "id": "RHSG81nd8W7W",
        "outputId": "591e07ca-6f6c-493b-863c-220a2ead4a03"
      },
      "source": [
        "def listfun(list):\r\n",
        "  for i in range(len(list)):\r\n",
        "    if[0,0,7] == list[i:i+3]:\r\n",
        "     print(\"true\")\r\n",
        "  else:\r\n",
        "     print(\"false\")\r\n",
        "\r\n",
        "listfun([1,23,45,0,78,0,87,7])  \r\n",
        "listfun([1,0,0,7,875,45,454])    "
      ],
      "execution_count": null,
      "outputs": [
        {
          "output_type": "stream",
          "text": [
            "false\n",
            "true\n",
            "false\n"
          ],
          "name": "stdout"
        }
      ]
    },
    {
      "cell_type": "code",
      "metadata": {
        "colab": {
          "base_uri": "https://localhost:8080/"
        },
        "id": "Vt5SKISB8W-l",
        "outputId": "1b4528d8-6e35-49ea-da12-43a9b556415d"
      },
      "source": [
        "def count(str): \r\n",
        "    upper, lower, number, special = 0, 0, 0, 0\r\n",
        "    for i in range(len(str)): \r\n",
        "       if str[i].isupper(): \r\n",
        "            upper += 1\r\n",
        "       elif str[i].islower(): \r\n",
        "            lower += 1\r\n",
        "       elif str[i].isdigit(): \r\n",
        "            number += 1\r\n",
        "       else: \r\n",
        "            special += 1\r\n",
        "    print('Upper case letters:', upper) \r\n",
        "    print('Lower case letters:', lower) \r\n",
        "    print('Number:', number) \r\n",
        "    print('Special characters:', special) \r\n",
        "  \r\n",
        "\r\n",
        "str = \"vignesh@1998,pythonCLASS==18-JAN2020\"\r\n",
        "count(str)"
      ],
      "execution_count": null,
      "outputs": [
        {
          "output_type": "stream",
          "text": [
            "Upper case letters: 8\n",
            "Lower case letters: 13\n",
            "Number: 10\n",
            "Special characters: 5\n"
          ],
          "name": "stdout"
        }
      ]
    }
  ]
}