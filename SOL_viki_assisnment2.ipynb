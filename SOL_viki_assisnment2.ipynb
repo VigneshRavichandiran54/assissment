{
  "nbformat": 4,
  "nbformat_minor": 0,
  "metadata": {
    "colab": {
      "name": "SOL_assisnment2",
      "provenance": [],
      "collapsed_sections": [],
      "authorship_tag": "ABX9TyNidh1dGpL5NPCHmb4Yc+kz",
      "include_colab_link": true
    },
    "kernelspec": {
      "name": "python3",
      "display_name": "Python 3"
    }
  },
  "cells": [
    {
      "cell_type": "markdown",
      "metadata": {
        "id": "view-in-github",
        "colab_type": "text"
      },
      "source": [
        "<a href=\"https://colab.research.google.com/github/VigneshRavichandiran54/assissment/blob/main/SOL_viki_assisnment2.ipynb\" target=\"_parent\"><img src=\"https://colab.research.google.com/assets/colab-badge.svg\" alt=\"Open In Colab\"/></a>"
      ]
    },
    {
      "cell_type": "code",
      "metadata": {
        "colab": {
          "base_uri": "https://localhost:8080/"
        },
        "id": "KdEwgXCdG3-N",
        "outputId": "2e2f13ca-4296-45c0-b390-81a2a5a80232"
      },
      "source": [
        "l=[100,200,300,400,500]\r\n",
        "print(l[::-1])"
      ],
      "execution_count": null,
      "outputs": [
        {
          "output_type": "stream",
          "text": [
            "[500, 400, 300, 200, 100]\n"
          ],
          "name": "stdout"
        }
      ]
    },
    {
      "cell_type": "code",
      "metadata": {
        "id": "Vzyiuj4_KvZw",
        "colab": {
          "base_uri": "https://localhost:8080/"
        },
        "outputId": "24a9cee5-8b21-4f2d-f6f0-3e4387454443"
      },
      "source": [
        "list1 = [10, 20, [300, 400, [5000, 6000], 500], 30, 40]\r\n",
        "list1[2][2].insert(2,7000)\r\n",
        "print(list1)\r\n"
      ],
      "execution_count": 77,
      "outputs": [
        {
          "output_type": "stream",
          "text": [
            "[10, 20, [300, 400, [5000, 6000, 7000], 500], 30, 40]\n"
          ],
          "name": "stdout"
        }
      ]
    },
    {
      "cell_type": "code",
      "metadata": {
        "colab": {
          "base_uri": "https://localhost:8080/"
        },
        "id": "MP1yXPePRNJJ",
        "outputId": "7fa85250-7718-446f-e100-01dc844d3c5d"
      },
      "source": [
        "list1 = [\"a\", \"b\", [\"c\", [\"d\", \"e\", [\"f\", \"g\"], \"k\"], \"l\"], \"m\", \"n\"]\r\n",
        "list2 = [\"h\",\"i\",\"j\"]\r\n",
        "list1[2][1][2].extend(list2)\r\n",
        "print(list1)"
      ],
      "execution_count": 82,
      "outputs": [
        {
          "output_type": "stream",
          "text": [
            "['a', 'b', ['c', ['d', 'e', ['f', 'g', 'h', 'i', 'j'], 'k'], 'l'], 'm', 'n']\n"
          ],
          "name": "stdout"
        }
      ]
    },
    {
      "cell_type": "code",
      "metadata": {
        "colab": {
          "base_uri": "https://localhost:8080/"
        },
        "id": "aPALM8u-SYv5",
        "outputId": "2299702d-4b80-4714-c548-40abc18fc163"
      },
      "source": [
        "t = (10, 20, 30, 40, 50)\r\n",
        "print(t[::-1])"
      ],
      "execution_count": 93,
      "outputs": [
        {
          "output_type": "stream",
          "text": [
            "(50, 40, 30, 20, 10)\n"
          ],
          "name": "stdout"
        }
      ]
    },
    {
      "cell_type": "code",
      "metadata": {
        "colab": {
          "base_uri": "https://localhost:8080/"
        },
        "id": "JuSEa4v5VFEl",
        "outputId": "17914b34-caac-4dd4-ca0a-52f130647577"
      },
      "source": [
        "aTuple = (\"Orange\", [10, 20, 30], (5, 15, 25))\r\n",
        "print(aTuple[1][1])"
      ],
      "execution_count": 99,
      "outputs": [
        {
          "output_type": "stream",
          "text": [
            "20\n"
          ],
          "name": "stdout"
        }
      ]
    },
    {
      "cell_type": "code",
      "metadata": {
        "colab": {
          "base_uri": "https://localhost:8080/"
        },
        "id": "Ydb3Ii2EVqwV",
        "outputId": "2b4289db-2ff8-4b13-882a-763fab17f527"
      },
      "source": [
        "not_a_tuple=(\"50\")\r\n",
        "create_a_tuple=(\"50\",)\r\n",
        "print(type(not_a_tuple))\r\n",
        "print(type(create_a_tuple))"
      ],
      "execution_count": 104,
      "outputs": [
        {
          "output_type": "stream",
          "text": [
            "<class 'str'>\n",
            "<class 'tuple'>\n"
          ],
          "name": "stdout"
        }
      ]
    },
    {
      "cell_type": "code",
      "metadata": {
        "colab": {
          "base_uri": "https://localhost:8080/"
        },
        "id": "imhyMLFvWcZf",
        "outputId": "a9a97dcd-6171-4e66-92bb-fe024eba012f"
      },
      "source": [
        "t1 = (11, 22)\r\n",
        "t2 = (99, 88)\r\n",
        "print (\"before Swaping\")\r\n",
        "print(\"T1 :\",t1)\r\n",
        "print(\"T2 :\",t2)\r\n",
        "\r\n",
        "[t1],[t2]=[t2],[t1]\r\n",
        "print(\"After Swapping\")\r\n",
        "print(\"T1 :\",t1)\r\n",
        "print(\"T2 :\",t2)"
      ],
      "execution_count": 109,
      "outputs": [
        {
          "output_type": "stream",
          "text": [
            "before Swaping\n",
            "T1 : (11, 22)\n",
            "T2 : (99, 88)\n",
            "After Swapping\n",
            "T1 : (99, 88)\n",
            "T2 : (11, 22)\n"
          ],
          "name": "stdout"
        }
      ]
    },
    {
      "cell_type": "code",
      "metadata": {
        "colab": {
          "base_uri": "https://localhost:8080/"
        },
        "id": "GTE9YDH_XOK-",
        "outputId": "3e0b3d99-5326-4030-d85c-cb4f7f978ba6"
      },
      "source": [
        "t1 = (11, 22, 33, 44, 55, 66)\r\n",
        "print(\"tuple 1 =\",t1)\r\n",
        "print(\"tuple2 = \",t1[3:5])"
      ],
      "execution_count": 121,
      "outputs": [
        {
          "output_type": "stream",
          "text": [
            "tuple 1 = (11, 22, 33, 44, 55, 66)\n",
            "tuple2 =  (44, 55)\n"
          ],
          "name": "stdout"
        }
      ]
    },
    {
      "cell_type": "code",
      "metadata": {
        "colab": {
          "base_uri": "https://localhost:8080/"
        },
        "id": "IVVyYle8b8MJ",
        "outputId": "822412af-adb5-421b-aa7f-75002612893a"
      },
      "source": [
        "t1 = (50, 10, 60, 70, 50)\r\n",
        "print(t1.count(50))"
      ],
      "execution_count": 122,
      "outputs": [
        {
          "output_type": "stream",
          "text": [
            "2\n"
          ],
          "name": "stdout"
        }
      ]
    },
    {
      "cell_type": "code",
      "metadata": {
        "colab": {
          "base_uri": "https://localhost:8080/"
        },
        "id": "86M20x_8cTLj",
        "outputId": "d8bbafc8-a70e-491c-a9af-a7296eab3856"
      },
      "source": [
        "keys = ['Ten', 'Twenty', 'Thirty']\r\n",
        "values = [10, 20, 30]\r\n",
        "dict=dict(zip(keys,values)) #it is a constuctor to built dict\r\n",
        "print(dict)"
      ],
      "execution_count": 125,
      "outputs": [
        {
          "output_type": "stream",
          "text": [
            "{'Ten': 10, 'Twenty': 20, 'Thirty': 30}\n"
          ],
          "name": "stdout"
        }
      ]
    },
    {
      "cell_type": "code",
      "metadata": {
        "colab": {
          "base_uri": "https://localhost:8080/"
        },
        "id": "ffWL0lL-OQu3",
        "outputId": "ca9b615d-5f2f-4a39-9f9f-8a7bc81dd8f0"
      },
      "source": [
        "dict1 = {'Ten': 10, 'Twenty': 20, 'Thirty': 30}\r\n",
        "dict2 = {'Thirty': 30, 'Fourty': 40, 'Fifty': 50}\r\n",
        "dict1.update(dict2)\r\n",
        "print(dict1)"
      ],
      "execution_count": 140,
      "outputs": [
        {
          "output_type": "stream",
          "text": [
            "{'Ten': 10, 'Twenty': 20, 'Thirty': 30, 'Fourty': 40, 'Fifty': 50}\n"
          ],
          "name": "stdout"
        }
      ]
    },
    {
      "cell_type": "code",
      "metadata": {
        "colab": {
          "base_uri": "https://localhost:8080/"
        },
        "id": "KTH9gVWsQCVp",
        "outputId": "0caeea53-2179-4612-cb82-89b9e97f5738"
      },
      "source": [
        "employees = ['Kelly', 'Emma', 'John']\r\n",
        "defaults = {\"designation\": 'Application Developer', \"salary\": 8000}\r\n",
        "\r\n",
        "dictionary=dict.fromkeys(employees,defaults)\r\n",
        "print(dictionary)\r\n"
      ],
      "execution_count": 152,
      "outputs": [
        {
          "output_type": "stream",
          "text": [
            "{'Kelly': {'designation': 'Application Developer', 'salary': 8000}, 'Emma': {'designation': 'Application Developer', 'salary': 8000}, 'John': {'designation': 'Application Developer', 'salary': 8000}}\n",
            "{'designation': 'Application Developer', 'salary': 8000}\n"
          ],
          "name": "stdout"
        }
      ]
    },
    {
      "cell_type": "code",
      "metadata": {
        "colab": {
          "base_uri": "https://localhost:8080/"
        },
        "id": "B0ITvHGtTFOn",
        "outputId": "b03f3aa6-864b-47e7-d714-be2de5566ce8"
      },
      "source": [
        "sd = {'a': 100, 'b': 200, 'c': 300}\r\n",
        "print(200 in sd.values())\r\n",
        "print(20000 in sd.values())\r\n",
        "\r\n"
      ],
      "execution_count": 159,
      "outputs": [
        {
          "output_type": "stream",
          "text": [
            "True\n",
            "False\n"
          ],
          "name": "stdout"
        }
      ]
    }
  ]
}